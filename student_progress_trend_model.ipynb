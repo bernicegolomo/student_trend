{
  "nbformat": 4,
  "nbformat_minor": 0,
  "metadata": {
    "colab": {
      "provenance": [],
      "authorship_tag": "ABX9TyOTiPK/x5LZVFvnKbyw4R7Q",
      "include_colab_link": true
    },
    "kernelspec": {
      "name": "python3",
      "display_name": "Python 3"
    },
    "language_info": {
      "name": "python"
    }
  },
  "cells": [
    {
      "cell_type": "markdown",
      "metadata": {
        "id": "view-in-github",
        "colab_type": "text"
      },
      "source": [
        "<a href=\"https://colab.research.google.com/github/bernicegolomo/student_trend/blob/main/student_progress_trend_model.ipynb\" target=\"_parent\"><img src=\"https://colab.research.google.com/assets/colab-badge.svg\" alt=\"Open In Colab\"/></a>"
      ]
    },
    {
      "cell_type": "markdown",
      "source": [
        "# Import necessary libraries\n"
      ],
      "metadata": {
        "id": "5CxRey_8OdkP"
      }
    },
    {
      "cell_type": "code",
      "source": [
        "import pandas as pd\n",
        "from sklearn.model_selection import train_test_split, GridSearchCV\n",
        "from sklearn.preprocessing import StandardScaler\n",
        "from sklearn.linear_model import LogisticRegression\n",
        "from sklearn.ensemble import RandomForestClassifier, VotingClassifier\n",
        "from sklearn.metrics import classification_report, accuracy_score, precision_score, recall_score, f1_score, confusion_matrix\n",
        "from imblearn.over_sampling import SMOTE\n",
        "import joblib\n",
        "import seaborn as sns\n",
        "import matplotlib.pyplot as plt"
      ],
      "metadata": {
        "id": "QmQ6zVenOgHp"
      },
      "execution_count": null,
      "outputs": []
    },
    {
      "cell_type": "markdown",
      "source": [
        "# Load and process dataset"
      ],
      "metadata": {
        "id": "jRjGYXUZOiie"
      }
    },
    {
      "cell_type": "code",
      "source": [
        "data = pd.read_csv('sample_data/scores.csv')\n",
        "\n",
        "# Basic exploration\n",
        "print(data.info())          # Data types and non-null values\n",
        "print(data.describe())      # Summary statistics\n",
        "print(data.head())          # First few rows\n",
        "print(data['Trend'].value_counts())"
      ],
      "metadata": {
        "colab": {
          "base_uri": "https://localhost:8080/"
        },
        "id": "l0GZEEfoOli9",
        "outputId": "824e60c5-62c5-47b3-abcf-596ef1f466e7"
      },
      "execution_count": null,
      "outputs": [
        {
          "output_type": "stream",
          "name": "stdout",
          "text": [
            "<class 'pandas.core.frame.DataFrame'>\n",
            "RangeIndex: 20017 entries, 0 to 20016\n",
            "Data columns (total 8 columns):\n",
            " #   Column      Non-Null Count  Dtype \n",
            "---  ------      --------------  ----- \n",
            " 0   Student ID  20017 non-null  int64 \n",
            " 1   Subject     20012 non-null  object\n",
            " 2   Session ID  20017 non-null  int64 \n",
            " 3   Exam ID     20017 non-null  int64 \n",
            " 4   1           20017 non-null  int64 \n",
            " 5   2           20017 non-null  int64 \n",
            " 6   3           20017 non-null  int64 \n",
            " 7   Trend       20017 non-null  object\n",
            "dtypes: int64(6), object(2)\n",
            "memory usage: 1.2+ MB\n",
            "None\n",
            "         Student ID    Session ID       Exam ID             1             2  \\\n",
            "count  20017.000000  20017.000000  20017.000000  20017.000000  20017.000000   \n",
            "mean     742.436979      2.821352     11.416096     64.823450     64.353799   \n",
            "std      255.081476      1.082183      4.974974     25.674107     26.367829   \n",
            "min       67.000000      1.000000      1.000000      0.000000      0.000000   \n",
            "25%      588.000000      2.000000      9.000000     57.000000     56.000000   \n",
            "50%      775.000000      3.000000     13.000000     72.000000     72.000000   \n",
            "75%      928.000000      4.000000     16.000000     83.000000     83.000000   \n",
            "max     1283.000000      4.000000     17.000000    100.000000    187.000000   \n",
            "\n",
            "                  3  \n",
            "count  20017.000000  \n",
            "mean      49.605585  \n",
            "std       35.781103  \n",
            "min        0.000000  \n",
            "25%        0.000000  \n",
            "50%       64.000000  \n",
            "75%       81.000000  \n",
            "max      100.000000  \n",
            "   Student ID           Subject  Session ID  Exam ID   1   2   3    Trend\n",
            "0         946            FRENCH           3       13  95  89  97    mixed\n",
            "1         946            FRENCH           4       17  89  84  92    mixed\n",
            "2         946  COMPUTER SCIENCE           3       13  93  91  97    mixed\n",
            "3         946  COMPUTER SCIENCE           4       17  96  92  90  decline\n",
            "4         946           HISTORY           3       13  90  85  92    mixed\n",
            "Trend\n",
            "mixed                8086\n",
            "improvement          5395\n",
            "decline              4855\n",
            "insufficient data    1681\n",
            "Name: count, dtype: int64\n"
          ]
        }
      ]
    },
    {
      "cell_type": "markdown",
      "source": [
        "# Split the dataset into features (X) and target variable (y)"
      ],
      "metadata": {
        "id": "IkeE5500Oqvq"
      }
    },
    {
      "cell_type": "code",
      "source": [
        "X = data.drop(columns=['Trend'])  # Features (remove 'Trend')\n",
        "y = data['Trend']  # Target variable"
      ],
      "metadata": {
        "id": "gy41qbMoOtBT"
      },
      "execution_count": null,
      "outputs": []
    },
    {
      "cell_type": "markdown",
      "source": [
        "# Handle categorical variables using One-Hot Encoding"
      ],
      "metadata": {
        "id": "Q3TyFYZQO0kF"
      }
    },
    {
      "cell_type": "code",
      "source": [
        "X = pd.get_dummies(X, drop_first=True)"
      ],
      "metadata": {
        "id": "W4zL13gzO1qF"
      },
      "execution_count": null,
      "outputs": []
    },
    {
      "cell_type": "markdown",
      "source": [
        "# Handle missing values (if any)"
      ],
      "metadata": {
        "id": "u_p4PqIXO6b0"
      }
    },
    {
      "cell_type": "code",
      "source": [
        "X.fillna(0, inplace=True)"
      ],
      "metadata": {
        "id": "DIQkUq3pO8DS"
      },
      "execution_count": null,
      "outputs": []
    },
    {
      "cell_type": "markdown",
      "source": [
        "# Standardize the features"
      ],
      "metadata": {
        "id": "8cMlZFSMO-q8"
      }
    },
    {
      "cell_type": "code",
      "source": [
        "scaler = StandardScaler()\n",
        "X_scaled = scaler.fit_transform(X)"
      ],
      "metadata": {
        "id": "TTbrJud6PAW2"
      },
      "execution_count": null,
      "outputs": []
    },
    {
      "cell_type": "markdown",
      "source": [
        "# Split the data into training and testing sets"
      ],
      "metadata": {
        "id": "XDtJfLogPCbf"
      }
    },
    {
      "cell_type": "code",
      "source": [
        "X_train, X_test, y_train, y_test = train_test_split(X_scaled, y, test_size=0.2, random_state=42, stratify=y)\n"
      ],
      "metadata": {
        "id": "KEJ9JOZePF6I"
      },
      "execution_count": null,
      "outputs": []
    },
    {
      "cell_type": "markdown",
      "source": [
        "# Handling class imbalance using SMOTE"
      ],
      "metadata": {
        "id": "dV2neiIhPIMk"
      }
    },
    {
      "cell_type": "code",
      "source": [
        "smote = SMOTE(random_state=42)\n",
        "X_resampled, y_resampled = smote.fit_resample(X_train, y_train)"
      ],
      "metadata": {
        "id": "0uEnS2amQM_E"
      },
      "execution_count": null,
      "outputs": []
    },
    {
      "cell_type": "markdown",
      "source": [
        "# Define models for the Voting Classifier"
      ],
      "metadata": {
        "id": "mLy-tX61QPAA"
      }
    },
    {
      "cell_type": "code",
      "source": [
        "logistic_model = LogisticRegression(max_iter=200, class_weight='balanced', solver='liblinear')\n",
        "rf_model = RandomForestClassifier(class_weight='balanced', random_state=42)\n",
        "\n",
        "# Voting Classifier combining Logistic Regression and Random Forest\n",
        "voting_model = VotingClassifier(estimators=[\n",
        "    ('logistic', logistic_model),\n",
        "    ('random_forest', rf_model)\n",
        "], voting='soft')\n"
      ],
      "metadata": {
        "id": "tsLygzIBQXQ7"
      },
      "execution_count": null,
      "outputs": []
    },
    {
      "cell_type": "markdown",
      "source": [
        "# Hyperparameter tuning using GridSearchCV"
      ],
      "metadata": {
        "id": "bsgaQ3YqQZ4H"
      }
    },
    {
      "cell_type": "code",
      "source": [
        "param_grid = {\n",
        "    'logistic__C': [0.01, 0.1, 1, 10, 100],  # Regularization strength for Logistic Regression\n",
        "    'random_forest__n_estimators': [50, 100, 200],  # Number of trees in Random Forest\n",
        "    'random_forest__max_depth': [None, 10, 20, 30],  # Depth of trees in Random Forest\n",
        "}\n",
        "\n",
        "# Perform GridSearchCV for hyperparameter tuning\n",
        "grid_search = GridSearchCV(estimator=voting_model, param_grid=param_grid,\n",
        "                           scoring='f1_weighted', cv=3, n_jobs=-1, verbose=2)\n",
        "grid_search.fit(X_resampled, y_resampled)\n",
        "\n",
        "# Retrieve the best model from grid search\n",
        "best_model = grid_search.best_estimator_"
      ],
      "metadata": {
        "colab": {
          "base_uri": "https://localhost:8080/"
        },
        "id": "Oj5MeK1PQf8r",
        "outputId": "041dcb41-b106-462a-c4bb-146313990697"
      },
      "execution_count": null,
      "outputs": [
        {
          "output_type": "stream",
          "name": "stdout",
          "text": [
            "Fitting 3 folds for each of 60 candidates, totalling 180 fits\n"
          ]
        }
      ]
    },
    {
      "cell_type": "markdown",
      "source": [
        "# Evaluate the model on the test data"
      ],
      "metadata": {
        "id": "R70_v1RPQh0t"
      }
    },
    {
      "cell_type": "code",
      "source": [
        "y_pred = best_model.predict(X_test)"
      ],
      "metadata": {
        "id": "6tXAOMjlQk_M"
      },
      "execution_count": null,
      "outputs": []
    },
    {
      "cell_type": "markdown",
      "source": [
        "# Print the classification report"
      ],
      "metadata": {
        "id": "zJcPg73mQphm"
      }
    },
    {
      "cell_type": "code",
      "execution_count": null,
      "metadata": {
        "colab": {
          "base_uri": "https://localhost:8080/"
        },
        "id": "Dc4eO3UCOZ4g",
        "outputId": "0180fbd9-8e52-465b-82c3-a9d4cb4ceb8a"
      },
      "outputs": [
        {
          "output_type": "stream",
          "name": "stdout",
          "text": [
            "Accuracy: 0.8459040959040959\n",
            "Precision: 0.8478685835514488\n",
            "Recall: 0.8459040959040959\n",
            "F1-Score: 0.8444819571533374\n",
            "Confusion Matrix:\n",
            " [[ 748   36   12  175]\n",
            " [  71  838    6  164]\n",
            " [   0    0  336    0]\n",
            " [  52   92    9 1465]]\n",
            "Classification Report:\n",
            "                   precision    recall  f1-score   support\n",
            "\n",
            "          decline       0.86      0.77      0.81       971\n",
            "      improvement       0.87      0.78      0.82      1079\n",
            "insufficient data       0.93      1.00      0.96       336\n",
            "            mixed       0.81      0.91      0.86      1618\n",
            "\n",
            "         accuracy                           0.85      4004\n",
            "        macro avg       0.87      0.86      0.86      4004\n",
            "     weighted avg       0.85      0.85      0.84      4004\n",
            "\n"
          ]
        }
      ],
      "source": [
        "# Calculate evaluation metrics\n",
        "accuracy = accuracy_score(y_test, y_pred)\n",
        "precision = precision_score(y_test, y_pred, average='weighted')\n",
        "recall = recall_score(y_test, y_pred, average='weighted')\n",
        "f1 = f1_score(y_test, y_pred, average='weighted')\n",
        "conf_matrix = confusion_matrix(y_test, y_pred)\n",
        "\n",
        "# Print the evaluation metrics\n",
        "print(\"Accuracy:\", accuracy)\n",
        "print(\"Precision:\", precision)\n",
        "print(\"Recall:\", recall)\n",
        "print(\"F1-Score:\", f1)\n",
        "print(\"Confusion Matrix:\\n\", conf_matrix)\n",
        "\n",
        "print(\"Classification Report:\")\n",
        "print(classification_report(y_test, y_pred))\n",
        "\n",
        "\n"
      ]
    },
    {
      "cell_type": "markdown",
      "source": [
        "# Plot the confusion matrix\n"
      ],
      "metadata": {
        "id": "vfZDXkjKYjXm"
      }
    },
    {
      "cell_type": "code",
      "source": [
        "plt.figure(figsize=(8, 6))\n",
        "sns.heatmap(conf_matrix, annot=True, fmt='d', cmap='Blues', xticklabels=y.unique(), yticklabels=y.unique())\n",
        "plt.xlabel('Predicted')\n",
        "plt.ylabel('Actual')\n",
        "plt.title('Confusion Matrix')\n",
        "plt.show()"
      ],
      "metadata": {
        "colab": {
          "base_uri": "https://localhost:8080/",
          "height": 564
        },
        "id": "2dymgW70YlOk",
        "outputId": "f854c575-6898-44b3-9f8b-7743fd7397cc"
      },
      "execution_count": null,
      "outputs": [
        {
          "output_type": "display_data",
          "data": {
            "text/plain": [
              "<Figure size 800x600 with 2 Axes>"
            ],
            "image/png": "[encoded data removed]"
          },
          "metadata": {}
        }
      ]
    },
    {
      "cell_type": "markdown",
      "source": [
        "# Save the trained model, scaler, and the column names for future use\n"
      ],
      "metadata": {
        "id": "kmKcr0e0QuiT"
      }
    },
    {
      "cell_type": "code",
      "source": [
        "joblib.dump(best_model, 'best_trend_prediction_model.pkl')\n",
        "joblib.dump(scaler, 'scaler.pkl')\n",
        "joblib.dump(X.columns, 'encoded_columns.pkl')  # Save column names for future use\n",
        "\n",
        "print(\"Model training and saving complete.\")"
      ],
      "metadata": {
        "id": "s6Uyyt1GQwRj"
      },
      "execution_count": null,
      "outputs": []
    }
  ]
}